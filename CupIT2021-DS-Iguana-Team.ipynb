{
 "cells": [
  {
   "cell_type": "markdown",
   "metadata": {},
   "source": [
    "# CUP IT FINAL Секция Data Science\n",
    "\n",
    "## Команда Iguana Team\n",
    "\n",
    "### Этот ноутбук содержит код:\n",
    "\n",
    "- Загрузки и предобработки датасета\n",
    "- Объявления и обучения модели"
   ]
  },
  {
   "cell_type": "markdown",
   "metadata": {},
   "source": [
    "# Импортируем библиотеки"
   ]
  },
  {
   "cell_type": "code",
   "execution_count": null,
   "metadata": {},
   "outputs": [],
   "source": [
    "import re\n",
    "import os\n",
    "import numpy as np\n",
    "import pandas as pd\n",
    "import copy\n",
    "from utils import get_tags, compute_metrics, predict_and_print_metrics, MultiNLI_dataset, preprocess_tokenize_dataset\n",
    "from modeling import SemBERT, train_model"
   ]
  },
  {
   "cell_type": "markdown",
   "metadata": {},
   "source": [
    "# Загружаем и инициализируем датасет"
   ]
  },
  {
   "cell_type": "code",
   "execution_count": null,
   "metadata": {},
   "outputs": [],
   "source": [
    "!wget -q https://cims.nyu.edu/~sbowman/multinli/multinli_1.0.zip\n",
    "!unzip -q ./multinli_1.0.zip"
   ]
  },
  {
   "cell_type": "code",
   "execution_count": null,
   "metadata": {},
   "outputs": [],
   "source": [
    "data_folder = \"./multinli_1.0/\""
   ]
  },
  {
   "cell_type": "code",
   "execution_count": null,
   "metadata": {},
   "outputs": [],
   "source": [
    "df_train = pd.read_json(f\"{data_folder}multinli_1.0_train.jsonl\", lines=True)\n",
    "## Остальные датасеты отложим на потом, чтобы не загружать оперативную память"
   ]
  },
  {
   "cell_type": "markdown",
   "metadata": {},
   "source": [
    "# Выделяем тэги с помощью регулярных выражений"
   ]
  },
  {
   "cell_type": "code",
   "execution_count": null,
   "metadata": {},
   "outputs": [],
   "source": [
    "df_train['sentence1_tagged'] = df_train['sentence1_parse'].apply(get_tags)\n",
    "df_train['sentence2_tagged'] = df_train['sentence2_parse'].apply(get_tags)"
   ]
  },
  {
   "cell_type": "code",
   "execution_count": null,
   "metadata": {},
   "outputs": [],
   "source": [
    "## Оставляем только предложения, тэги и закодированный label, для оптимизации удаляем очень длинные строки\n",
    "label_set = {'entailment': 0, 'contradiction': 1, 'neutral': 2}\n",
    "df = df_train[df_train['gold_label'] != '-']\n",
    "df['gold_label'].replace(to_replace=label_set, inplace=True)\n",
    "df = df[['sentence1', 'sentence1_tagged', 'sentence2', 'sentence2_tagged', 'gold_label']].loc[df[(df['sentence1'].str.len() < 250) & (df['sentence2'].str.len() < 250)].index]"
   ]
  },
  {
   "cell_type": "code",
   "execution_count": null,
   "metadata": {},
   "outputs": [],
   "source": [
    "punctuation = '!\"#$%&\\'()*,-./:;<=>?@^_`{|}~'\n",
    "\n",
    "# Приводим к нижнему регистру, убираем пунктуацию\n",
    "\n",
    "sentences1 = list(df['sentence1'].str.lower().replace(re.compile(punctuation), ' ').values)\n",
    "sentences2 = list(df['sentence2'].str.lower().replace(re.compile(punctuation), ' ').values)\n",
    "sentences1_tags = list(df['sentence1_tagged'].values)\n",
    "sentences2_tags = list(df['sentence2_tagged'].values)\n",
    "labels = df['gold_label'].values"
   ]
  },
  {
   "cell_type": "markdown",
   "metadata": {},
   "source": [
    "# Инициализируем токенайзер и создаем датасет"
   ]
  },
  {
   "cell_type": "code",
   "execution_count": null,
   "metadata": {},
   "outputs": [],
   "source": [
    "from transformers import DistilBertTokenizerFast, BertTokenizerFast\n",
    "import torch\n",
    "import torch.nn as nn\n",
    "import transformers\n",
    "from torch.utils.data import Dataset, DataLoader\n",
    "device = torch.device('cuda:0')\n",
    "torch.cuda.get_device_name()"
   ]
  },
  {
   "cell_type": "code",
   "execution_count": null,
   "metadata": {},
   "outputs": [],
   "source": [
    "tokenizer = BertTokenizerFast.from_pretrained('bert-base-uncased')"
   ]
  },
  {
   "cell_type": "code",
   "execution_count": null,
   "metadata": {},
   "outputs": [],
   "source": [
    "# Токенизируем и возвращаем в тензорах с пэддингом до самой длинной последовательности и освобождаем память\n",
    "# Пэддинг нужен для того, чтобы собирались батчи, но увеличение длины последовательности очень сильно прибавляет времени тренировки. \n",
    "# Токенизатор возвращает свой класс, нужны только input_ids и attention_mask\n",
    "\n",
    "tokenized_pairs = tokenizer(text=sentences1, text_pair=sentences2, padding=True, return_tensors='pt')\n",
    "del df_train, sentences1, sentences2"
   ]
  },
  {
   "cell_type": "markdown",
   "metadata": {},
   "source": [
    "# Создаем токенайзер из словаря тэгов"
   ]
  },
  {
   "cell_type": "code",
   "execution_count": null,
   "metadata": {},
   "outputs": [],
   "source": [
    "tags_set = set()\n",
    "for sent in df['sentence1_tagged'].values:\n",
    "    tags_set = tags_set | set(sent.split(' '))"
   ]
  },
  {
   "cell_type": "code",
   "execution_count": null,
   "metadata": {},
   "outputs": [],
   "source": [
    "tokens = ['[PAD]', '[UNK]', '[CLS]', '[SEP]', '[MASK]']\n",
    "with open('./vocab.txt', 'w') as file:\n",
    "    file.write('\\n'.join(tokens) + '\\n')\n",
    "    file.write('\\n'.join(list(tags_set)) + '\\n')"
   ]
  },
  {
   "cell_type": "code",
   "execution_count": null,
   "metadata": {},
   "outputs": [],
   "source": [
    "tag_tokenizer = DistilBertTokenizerFast(vocab_file='./vocab.txt', do_lower_case=False)"
   ]
  },
  {
   "cell_type": "markdown",
   "metadata": {},
   "source": [
    "# Выясняем максимальную длину токенизированных предложений из тэгов\n",
    "\n",
    "Это нужно для того, чтобы во время тренировки токенайзер возвращал тензоры одной длины, для возможности собрать их в батчи"
   ]
  },
  {
   "cell_type": "code",
   "execution_count": null,
   "metadata": {},
   "outputs": [],
   "source": [
    "max_len_train = 0\n",
    "text = df['sentence1_tagged'].values.astype(str)\n",
    "text_pairs = df['sentence2_tagged'].values.astype(str)\n",
    "\n",
    "for seq1, seq2 in zip(text, text_pairs):\n",
    "    input_ids = tag_tokenizer(seq1, text_pair=seq2, add_special_tokens=True)['input_ids']\n",
    "    if max_len_train < len(input_ids):\n",
    "        max_len_train = max(max_len_train, len(input_ids))\n",
    "\n",
    "del text, text_pairs"
   ]
  },
  {
   "cell_type": "code",
   "execution_count": null,
   "metadata": {},
   "outputs": [],
   "source": [
    "train_dataset = MultiNLI_dataset(tokenized_pairs, labels, sentences1_tags, sentences2_tags, max_len_train)\n",
    "del tokenized_pairs"
   ]
  },
  {
   "cell_type": "markdown",
   "metadata": {},
   "source": [
    "# Повторяем операции для валидационных датасетов"
   ]
  },
  {
   "cell_type": "code",
   "execution_count": null,
   "metadata": {},
   "outputs": [],
   "source": [
    "df_matched = pd.read_json(f\"{data_folder}multinli_1.0_dev_matched.jsonl\", lines=True)\n",
    "df_mismatched = pd.read_json(f\"{data_folder}multinli_1.0_dev_mismatched.jsonl\", lines=True)"
   ]
  },
  {
   "cell_type": "code",
   "execution_count": null,
   "metadata": {},
   "outputs": [],
   "source": [
    "tokenized_pairs_mis, labels_mis, mis_tags_sentence_1, mis_tags_sentence_2, max_len_mis = \n",
    "    preprocess_tokenize_dataset(tokenizer, df_mismatched)\n",
    "\n",
    "tokenized_pairs_mat, labels_mat, mat_tags_sentence_1, mat_tags_sentence_2, max_len_mat = \n",
    "    preprocess_tokenize_dataset(tokenizer, df_matched)"
   ]
  },
  {
   "cell_type": "code",
   "execution_count": null,
   "metadata": {},
   "outputs": [],
   "source": [
    "mis_dataset = MultiNLI_dataset(tokenized_pairs_mis, labels_mis, mis_tags_sentence_1, mis_tags_sentence_2, max_len_mis)\n",
    "mat_dataset = MultiNLI_dataset(tokenized_pairs_mat, labels_mat, mat_tags_sentence_1, mat_tags_sentence_2, max_len_mat)"
   ]
  },
  {
   "cell_type": "markdown",
   "metadata": {},
   "source": [
    "# Инициализируем и тренируем модель"
   ]
  },
  {
   "cell_type": "code",
   "execution_count": null,
   "metadata": {},
   "outputs": [],
   "source": [
    "num_epochs = 3\n",
    "model = SemBERT()\n",
    "model = model.to(device)\n",
    "train_dataloader = torch.utils.data.DataLoader(train_dataset, batch_size=80, shuffle=True)\n",
    "optimizer = torch.optim.AdamW(model.parameters(), lr=5e-5, weight_decay=0)\n",
    "lr_scheduler = transformers.get_linear_schedule_with_warmup(optimizer, num_warmup_steps=500, num_training_steps=len(train_dataloader)*num_epochs)\n",
    "loss_fct = torch.nn.CrossEntropyLoss()"
   ]
  },
  {
   "cell_type": "code",
   "execution_count": null,
   "metadata": {},
   "outputs": [],
   "source": [
    "train_model(model, training_dataloader=train_dataloader, optimizer=optimizer, \n",
    "                                                          lr_scheduler=lr_scheduler, loss_fct=loss_fct, num_epochs=num_epochs)"
   ]
  },
  {
   "cell_type": "code",
   "execution_count": null,
   "metadata": {},
   "outputs": [],
   "source": [
    "torch.cuda.empty_cache()"
   ]
  },
  {
   "cell_type": "markdown",
   "metadata": {},
   "source": [
    "# Сохраняем модель"
   ]
  },
  {
   "cell_type": "code",
   "execution_count": null,
   "metadata": {},
   "outputs": [],
   "source": [
    "torch.save(model, './model.pth')"
   ]
  }
 ],
 "metadata": {
  "kernelspec": {
   "display_name": "Python 3",
   "language": "python",
   "name": "python3"
  },
  "language_info": {
   "codemirror_mode": {
    "name": "ipython",
    "version": 3
   },
   "file_extension": ".py",
   "mimetype": "text/x-python",
   "name": "python",
   "nbconvert_exporter": "python",
   "pygments_lexer": "ipython3",
   "version": "3.8.5"
  }
 },
 "nbformat": 4,
 "nbformat_minor": 4
}
